{
 "cells": [
  {
   "cell_type": "code",
   "execution_count": 1,
   "metadata": {},
   "outputs": [],
   "source": [
    "import numpy as np\n",
    "import cv2"
   ]
  },
  {
   "cell_type": "markdown",
   "metadata": {},
   "source": [
    "## 随机剪裁"
   ]
  },
  {
   "cell_type": "code",
   "execution_count": 2,
   "metadata": {},
   "outputs": [],
   "source": [
    "'''\n",
    "定义裁剪函数，四个参数分别是：\n",
    "左上角横坐标x0\n",
    "左上角纵坐标y0\n",
    "裁剪宽度w\n",
    "裁剪高度h\n",
    "'''\n",
    "crop_image = lambda img, x0, y0, w, h: img[y0:y0+h, x0:x0+w]"
   ]
  },
  {
   "cell_type": "code",
   "execution_count": 3,
   "metadata": {},
   "outputs": [],
   "source": [
    "'''\n",
    "随机裁剪\n",
    "area_ratio为裁剪画面占原画面的比例\n",
    "hw_vari是扰动占原高宽比的比例范围\n",
    "'''\n",
    "def random_crop(img, area_ratio, hw_vari):\n",
    "    h, w = img.shape[:2]\n",
    "    hw_delta = np.random.uniform(-hw_vari, hw_vari)\n",
    "    hw_mult = 1 + hw_delta\n",
    "    \n",
    "    # 下标进行裁剪，宽高必须是正整数\n",
    "    w_crop = int(round(w*np.sqrt(area_ratio*hw_mult)))\n",
    "\n",
    "    # 裁剪宽度不可超过原图可裁剪宽度\n",
    "    if w_crop > w:\n",
    "        w_crop = w\n",
    "\n",
    "    h_crop = int(round(h*np.sqrt(area_ratio/hw_mult)))\n",
    "    if h_crop > h:\n",
    "        h_crop = h\n",
    "\n",
    "    # 随机生成左上角的位置\n",
    "    x0 = np.random.randint(0, w-w_crop+1)\n",
    "    y0 = np.random.randint(0, h-h_crop+1)\n",
    "\n",
    "    return crop_image(img, x0, y0, w_crop, h_crop)"
   ]
  },
  {
   "cell_type": "code",
   "execution_count": 4,
   "metadata": {},
   "outputs": [
    {
     "data": {
      "text/plain": [
       "True"
      ]
     },
     "execution_count": 4,
     "metadata": {},
     "output_type": "execute_result"
    }
   ],
   "source": [
    "# test\n",
    "img = cv2.imread('./重新编号后的数据集/2.bmp')\n",
    "\n",
    "#crop_image = img[100:200,100:200]\n",
    "cv2.imwrite('./test.bmp',random_crop(img,0.8,0.8)) #保存到指定目录"
   ]
  },
  {
   "cell_type": "markdown",
   "metadata": {},
   "source": [
    "## 旋转"
   ]
  },
  {
   "cell_type": "code",
   "execution_count": 5,
   "metadata": {},
   "outputs": [],
   "source": [
    "def rotate_image(img, angle, crop):\n",
    "    h, w = img.shape[:2]\n",
    "\t\n",
    "\t# 旋转角度的周期是360°\n",
    "    angle %= 360\n",
    "\t\n",
    "\t# 用OpenCV内置函数计算仿射矩阵\n",
    "    M_rotate = cv2.getRotationMatrix2D((w/2, h/2), angle, 1)\n",
    "\t\n",
    "\t# 得到旋转后的图像\n",
    "    img_rotated = cv2.warpAffine(img, M_rotate, (w, h))\n",
    "\n",
    "\t# 如果需要裁剪去除黑边\n",
    "    if crop:\n",
    "        angle_crop = angle % 180             \t    # 对于裁剪角度的等效周期是180°\n",
    "        if angle_crop > 90:                        \t# 并且关于90°对称\n",
    "            angle_crop = 180 - angle_crop\n",
    "\t\t\n",
    "        theta = angle_crop * np.pi / 180.0    \t\t# 转化角度为弧度\n",
    "        hw_ratio = float(h) / float(w)    \t\t    # 计算高宽比\n",
    "\t\t\n",
    "\n",
    "        tan_theta = np.tan(theta)                   # 计算裁剪边长系数的分子项\n",
    "        numerator = np.cos(theta) + np.sin(theta) * tan_theta\n",
    "\t\t\n",
    "\n",
    "        r = hw_ratio if h > w else 1 / hw_ratio\t\t# 计算分母项中和宽高比相关的项\n",
    "        denominator = r * tan_theta + 1\t\t \t\t# 计算分母项\n",
    "\n",
    "        crop_mult = numerator / denominator\t\t\t# 计算最终的边长系数\n",
    "        w_crop = int(round(crop_mult*w))\t\t\t# 得到裁剪区域\n",
    "        h_crop = int(round(crop_mult*h))\n",
    "        x0 = int((w-w_crop)/2)\n",
    "        y0 = int((h-h_crop)/2)\n",
    "        img_rotated = crop_image(img_rotated, x0, y0, w_crop, h_crop)\n",
    "    return img_rotated"
   ]
  },
  {
   "cell_type": "code",
   "execution_count": 6,
   "metadata": {},
   "outputs": [
    {
     "data": {
      "text/plain": [
       "True"
      ]
     },
     "execution_count": 6,
     "metadata": {},
     "output_type": "execute_result"
    }
   ],
   "source": [
    "# test\n",
    "img = cv2.imread('./重新编号后的数据集/2.bmp')\n",
    "\n",
    "cv2.imwrite('./test1.bmp',rotate_image(img,270,1)) #保存到指定目录"
   ]
  },
  {
   "cell_type": "markdown",
   "metadata": {},
   "source": [
    "## hsv变换"
   ]
  },
  {
   "cell_type": "code",
   "execution_count": 7,
   "metadata": {},
   "outputs": [],
   "source": [
    "'''\n",
    "定义hsv变换函数：\n",
    "hue_delta是色调变化比例\n",
    "sat_delta是饱和度变化比例\n",
    "val_delta是明度变化比例\n",
    "'''\n",
    "def hsv_transform(img, hue_delta, sat_mult, val_mult):\n",
    "    img_hsv = cv2.cvtColor(img, cv2.COLOR_BGR2HSV).astype(np.float)\n",
    "    img_hsv[:, :, 0] = (img_hsv[:, :, 0] + hue_delta) % 180\n",
    "    img_hsv[:, :, 1] *= sat_mult\n",
    "    img_hsv[:, :, 2] *= val_mult\n",
    "    img_hsv[img_hsv > 255] = 255\n",
    "    return cv2.cvtColor(np.round(img_hsv).astype(np.uint8), cv2.COLOR_HSV2BGR)"
   ]
  },
  {
   "cell_type": "code",
   "execution_count": 8,
   "metadata": {},
   "outputs": [
    {
     "data": {
      "text/plain": [
       "True"
      ]
     },
     "execution_count": 8,
     "metadata": {},
     "output_type": "execute_result"
    }
   ],
   "source": [
    "# test\n",
    "img = cv2.imread('./重新编号后的数据集/2.bmp')\n",
    "\n",
    "cv2.imwrite('./test1.bmp',hsv_transform(img,0.03,0.7,2)) #保存到指定目录\n",
    "cv2.imwrite('./test2.bmp',hsv_transform(img,0.09,0.2,0.5)) #保存到指定目录"
   ]
  },
  {
   "cell_type": "code",
   "execution_count": 15,
   "metadata": {},
   "outputs": [],
   "source": [
    "'''\n",
    "定义gamma变换函数：\n",
    "gamma就是Gamma\n",
    "'''\n",
    "def gamma_transform(img, gamma):\n",
    "    gamma_table = [np.power(x / 255.0, gamma) * 255.0 for x in range(256)]\n",
    "    gamma_table = np.round(np.array(gamma_table)).astype(np.uint8)\n",
    "    return cv2.LUT(img, gamma_table)\n",
    "\n",
    "'''\n",
    "随机gamma变换\n",
    "gamma_vari是Gamma变化的范围[1/gamma_vari, gamma_vari)\n",
    "'''\n",
    "def random_gamma_transform(img, gamma_vari):\n",
    "    log_gamma_vari = np.log(gamma_vari)\n",
    "    alpha = np.random.uniform(-log_gamma_vari, log_gamma_vari)\n",
    "    gamma = np.exp(alpha)\n",
    "    return gamma_transform(img, gamma)"
   ]
  },
  {
   "cell_type": "code",
   "execution_count": 17,
   "metadata": {},
   "outputs": [
    {
     "data": {
      "text/plain": [
       "True"
      ]
     },
     "execution_count": 17,
     "metadata": {},
     "output_type": "execute_result"
    }
   ],
   "source": [
    "# test\n",
    "img = cv2.imread('./重新编号后的数据集/2.bmp')\n",
    "\n",
    "cv2.imwrite('./test1.bmp',random_gamma_transform(img,3)) #保存到指定目录\n",
    "cv2.imwrite('./test2.bmp',random_gamma_transform(img,9)) #保存到指定目录"
   ]
  },
  {
   "cell_type": "code",
   "execution_count": null,
   "metadata": {},
   "outputs": [],
   "source": []
  }
 ],
 "metadata": {
  "kernelspec": {
   "display_name": "Python 3.7.4 64-bit ('base': conda)",
   "language": "python",
   "name": "python37464bitbasecondacb3ec4d305c44fe887804b43a376a3a9"
  },
  "language_info": {
   "codemirror_mode": {
    "name": "ipython",
    "version": 3
   },
   "file_extension": ".py",
   "mimetype": "text/x-python",
   "name": "python",
   "nbconvert_exporter": "python",
   "pygments_lexer": "ipython3",
   "version": "3.7.4"
  }
 },
 "nbformat": 4,
 "nbformat_minor": 2
}
