{
 "cells": [
  {
   "cell_type": "code",
   "execution_count": 1,
   "metadata": {},
   "outputs": [],
   "source": [
    "import os\n",
    "import numpy as np\n",
    "import cv2\n",
    "import shutil"
   ]
  },
  {
   "cell_type": "code",
   "execution_count": 2,
   "metadata": {},
   "outputs": [],
   "source": [
    "def mkdir(path):\n",
    " \n",
    "\tfolder = os.path.exists(path)\n",
    " \n",
    "\tif not folder:                   #判断是否存在文件夹如果不存在则创建为文件夹\n",
    "\t\tos.makedirs(path)            #makedirs 创建文件时如果路径不存在会创建这个路径\n",
    "\t\tprint(\"---  new folder...  ---\")\n",
    "\t\tprint(\"---  OK  ---\")\n",
    " \n",
    "\telse:\n",
    "\t\tprint(\"---  There is this folder!  ---\")\t"
   ]
  },
  {
   "cell_type": "markdown",
   "metadata": {},
   "source": [
    "## 存储原始数据集"
   ]
  },
  {
   "cell_type": "code",
   "execution_count": 3,
   "metadata": {},
   "outputs": [
    {
     "name": "stdout",
     "output_type": "stream",
     "text": [
      "---  There is this folder!  ---\n"
     ]
    }
   ],
   "source": [
    "inputDataset = './inputDataset/'\n",
    "file0 = \"./tempDataset1/step0-重新编号后的数据集/\"\n",
    "mkdir(file0) \n",
    "\n",
    "i = 0\n",
    "for root, dirs, files in os.walk(inputDataset, topdown=True):\n",
    "    for name in files:\n",
    "        #print((\"\"+os.path.join(root, name)))\n",
    "        img=cv2.imread((\"\"+os.path.join(root, name)), cv2.IMREAD_GRAYSCALE)\n",
    "        i = i + 1\n",
    "        cv2.imwrite(file0 + str(i) + '.bmp', img)"
   ]
  },
  {
   "cell_type": "markdown",
   "metadata": {},
   "source": [
    "## 随机剪裁"
   ]
  },
  {
   "cell_type": "code",
   "execution_count": 4,
   "metadata": {},
   "outputs": [],
   "source": [
    "'''\n",
    "定义裁剪函数，四个参数分别是：\n",
    "左上角横坐标x0\n",
    "左上角纵坐标y0\n",
    "裁剪宽度w\n",
    "裁剪高度h\n",
    "'''\n",
    "crop_image = lambda img, x0, y0, w, h: img[y0:y0+h, x0:x0+w]"
   ]
  },
  {
   "cell_type": "code",
   "execution_count": 5,
   "metadata": {},
   "outputs": [],
   "source": [
    "'''\n",
    "随机裁剪\n",
    "area_ratio为裁剪画面占原画面的比例\n",
    "hw_vari是扰动占原高宽比的比例范围\n",
    "'''\n",
    "def random_crop(img, area_ratio, hw_vari):\n",
    "    h, w = img.shape[:2]\n",
    "    hw_delta = np.random.uniform(-hw_vari, hw_vari)\n",
    "    hw_mult = 1 + hw_delta\n",
    "    \n",
    "    # 下标进行裁剪，宽高必须是正整数\n",
    "    w_crop = int(round(w*np.sqrt(area_ratio*hw_mult)))\n",
    "\n",
    "    # 裁剪宽度不可超过原图可裁剪宽度\n",
    "    if w_crop > w:\n",
    "        w_crop = w\n",
    "\n",
    "    h_crop = int(round(h*np.sqrt(area_ratio/hw_mult)))\n",
    "    if h_crop > h:\n",
    "        h_crop = h\n",
    "\n",
    "    # 随机生成左上角的位置\n",
    "    x0 = np.random.randint(0, w-w_crop+1)\n",
    "    y0 = np.random.randint(0, h-h_crop+1)\n",
    "\n",
    "    return crop_image(img, x0, y0, w_crop, h_crop)"
   ]
  },
  {
   "cell_type": "code",
   "execution_count": 6,
   "metadata": {},
   "outputs": [
    {
     "name": "stdout",
     "output_type": "stream",
     "text": [
      "---  There is this folder!  ---\n"
     ]
    }
   ],
   "source": [
    "file1 = \"./tempDataset1/step1-图像任意大小剪裁/\"\n",
    "mkdir(file1) \n",
    "\n",
    "# test\n",
    "\n",
    "\n",
    "i = 0\n",
    "area_ratio = 0.9\n",
    "hw_vari = 0.1\n",
    "\n",
    "for root, dirs, files in os.walk(file0, topdown=False):\n",
    "    files = os.listdir(file0)\n",
    "    files.sort(key=lambda x:int(x[:-4]))\n",
    "    for name in files:\n",
    "        #print((\"\"+os.path.join(root, name)))\n",
    "        img=cv2.imread((\"\"+os.path.join(root, name)),cv2.IMREAD_GRAYSCALE)\n",
    "        i = i + 1\n",
    "        cv2.imwrite(file1+ str(i) + '.bmp',\n",
    "                    random_crop(img, area_ratio, hw_vari))"
   ]
  },
  {
   "cell_type": "markdown",
   "metadata": {},
   "source": [
    "## 旋转"
   ]
  },
  {
   "cell_type": "code",
   "execution_count": 7,
   "metadata": {},
   "outputs": [
    {
     "name": "stdout",
     "output_type": "stream",
     "text": [
      "---  There is this folder!  ---\n"
     ]
    }
   ],
   "source": [
    "file2 = \"./tempDataset1/step2-图像任意角度旋转/\"\n",
    "mkdir(file2) \n",
    "\n",
    "def rotate_image(img, angle, crop):\n",
    "    h, w = img.shape[:2]\n",
    "\t\n",
    "\t# 旋转角度的周期是360°\n",
    "    angle %= 360\n",
    "\t\n",
    "\t# 用OpenCV内置函数计算仿射矩阵\n",
    "    M_rotate = cv2.getRotationMatrix2D((w/2, h/2), angle, 1)\n",
    "\t\n",
    "\t# 得到旋转后的图像\n",
    "    img_rotated = cv2.warpAffine(img, M_rotate, (w, h))\n",
    "\n",
    "\t# 如果需要裁剪去除黑边\n",
    "    if crop:\n",
    "        angle_crop = angle % 180             \t    # 对于裁剪角度的等效周期是180°\n",
    "        if angle_crop > 90:                        \t# 并且关于90°对称\n",
    "            angle_crop = 180 - angle_crop\n",
    "\t\t\n",
    "        theta = angle_crop * np.pi / 180.0    \t\t# 转化角度为弧度\n",
    "        hw_ratio = float(h) / float(w)    \t\t    # 计算高宽比\n",
    "\t\t\n",
    "\n",
    "        tan_theta = np.tan(theta)                   # 计算裁剪边长系数的分子项\n",
    "        numerator = np.cos(theta) + np.sin(theta) * tan_theta\n",
    "\t\t\n",
    "\n",
    "        r = hw_ratio if h > w else 1 / hw_ratio\t\t# 计算分母项中和宽高比相关的项\n",
    "        denominator = r * tan_theta + 1\t\t \t\t# 计算分母项\n",
    "\n",
    "        crop_mult = numerator / denominator\t\t\t# 计算最终的边长系数\n",
    "        w_crop = int(round(crop_mult*w))\t\t\t# 得到裁剪区域\n",
    "        h_crop = int(round(crop_mult*h))\n",
    "        x0 = int((w-w_crop)/2)\n",
    "        y0 = int((h-h_crop)/2)\n",
    "        img_rotated = crop_image(img_rotated, x0, y0, w_crop, h_crop)\n",
    "    return img_rotated"
   ]
  },
  {
   "cell_type": "code",
   "execution_count": 8,
   "metadata": {},
   "outputs": [],
   "source": [
    "# test\n",
    "i = 0\n",
    "for root, dirs, files in os.walk(file1, topdown=False):\n",
    "    files = os.listdir(file1)\n",
    "    files.sort(key=lambda x:int(x[:-4]))\n",
    "    for name in files:\n",
    "        img=cv2.imread((\"\"+os.path.join(root, name)), cv2.IMREAD_GRAYSCALE)\n",
    "        angle = 180\n",
    "        crop = 0.1\n",
    "        rotatedImg = rotate_image(img, angle, crop)\n",
    "        i = i + 1\n",
    "        cv2.imwrite(file2 + str(i) + '.bmp',rotatedImg)"
   ]
  },
  {
   "cell_type": "markdown",
   "metadata": {},
   "source": [
    "## 伽马变换"
   ]
  },
  {
   "cell_type": "code",
   "execution_count": 9,
   "metadata": {},
   "outputs": [],
   "source": [
    "'''\n",
    "定义gamma变换函数：\n",
    "gamma就是Gamma\n",
    "'''\n",
    "def gamma_transform(img, gamma):\n",
    "    gamma_table = [np.power(x / 255.0, gamma) * 255.0 for x in range(256)]\n",
    "    gamma_table = np.round(np.array(gamma_table)).astype(np.uint8)\n",
    "    return cv2.LUT(img, gamma_table)\n",
    "\n",
    "'''\n",
    "随机gamma变换\n",
    "gamma_vari是Gamma变化的范围[1/gamma_vari, gamma_vari)\n",
    "'''\n",
    "def random_gamma_transform(img, gamma_vari):\n",
    "    log_gamma_vari = np.log(gamma_vari)\n",
    "    alpha = np.random.uniform(-log_gamma_vari, log_gamma_vari)\n",
    "    gamma = np.exp(alpha)\n",
    "    return gamma_transform(img, gamma)"
   ]
  },
  {
   "cell_type": "code",
   "execution_count": 10,
   "metadata": {},
   "outputs": [
    {
     "name": "stdout",
     "output_type": "stream",
     "text": [
      "---  There is this folder!  ---\n"
     ]
    }
   ],
   "source": [
    "file3 = \"./tempDataset1/step3-图像伽马变换/\"\n",
    "mkdir(file3) "
   ]
  },
  {
   "cell_type": "code",
   "execution_count": 11,
   "metadata": {},
   "outputs": [],
   "source": [
    "# test\n",
    "img = cv2.imread(inputDataset)\n",
    "\n",
    "# test\n",
    "i = 0\n",
    "for root, dirs, files in os.walk(file2, topdown=False):\n",
    "    files = os.listdir(file2)\n",
    "    files.sort(key=lambda x:int(x[:-4]))\n",
    "    for name in files:\n",
    "        img=cv2.imread((\"\"+os.path.join(root, name)),cv2.IMREAD_GRAYSCALE)\n",
    "        gamma_vari = 0.8\n",
    "        gammaedImg = random_gamma_transform(img, gamma_vari)\n",
    "        i = i + 1\n",
    "        cv2.imwrite(file3 + str(i) + '.bmp',gammaedImg)\n",
    "    for name in dirs:\n",
    "        print(os.path.join(root, name))"
   ]
  },
  {
   "cell_type": "markdown",
   "metadata": {},
   "source": [
    "## 数据集合"
   ]
  },
  {
   "cell_type": "code",
   "execution_count": 12,
   "metadata": {},
   "outputs": [
    {
     "name": "stdout",
     "output_type": "stream",
     "text": [
      "---  There is this folder!  ---\n",
      "./tempDataset1/step0-重新编号后的数据集\n",
      "./tempDataset1/step1-图像任意大小剪裁\n",
      "./tempDataset1/step3-图像伽马变换\n",
      "./tempDataset1/step2-图像任意角度旋转\n"
     ]
    }
   ],
   "source": [
    "file4 = \"./lableDataset/\"\n",
    "mkdir(file4) \n",
    "\n",
    "# test\n",
    "i = 0\n",
    "for root, dirs, files in os.walk(\"./tempDataset1/\", topdown=False):\n",
    "    for name in files:\n",
    "        img=cv2.imread((\"\"+os.path.join(root, name)),cv2.IMREAD_GRAYSCALE)\n",
    "        dst=cv2.resize(img,(640,480)) #改变图片尺寸\n",
    "        i = i + 1\n",
    "        cv2.imwrite(file4 + str(i) + '.bmp',dst)\n",
    "    for name in dirs:\n",
    "        print(os.path.join(root, name))"
   ]
  },
  {
   "cell_type": "markdown",
   "metadata": {},
   "source": [
    "## 图像模糊"
   ]
  },
  {
   "cell_type": "code",
   "execution_count": 13,
   "metadata": {},
   "outputs": [
    {
     "name": "stdout",
     "output_type": "stream",
     "text": [
      "---  There is this folder!  ---\n"
     ]
    }
   ],
   "source": [
    "file5 = \"./tempDataset2-高斯模糊/\"\n",
    "mkdir(file5) \n",
    "\n",
    "# test\n",
    "i = 0\n",
    "for root, dirs, files in os.walk(file4, topdown=False):\n",
    "    files = os.listdir(file4)\n",
    "    files.sort(key=lambda x:int(x[:-4]))\n",
    "    for name in files:\n",
    "        img=cv2.imread((\"\"+os.path.join(root, name)),cv2.IMREAD_GRAYSCALE)\n",
    "        blurImg = cv2.GaussianBlur(img,(3,3),1)\n",
    "        i = i + 1\n",
    "        cv2.imwrite(file5 + str(i) + '.bmp',blurImg)\n",
    "    for name in dirs:\n",
    "        print(os.path.join(root, name))"
   ]
  },
  {
   "cell_type": "markdown",
   "metadata": {},
   "source": [
    "## 图像resize得到输出"
   ]
  },
  {
   "cell_type": "code",
   "execution_count": 14,
   "metadata": {},
   "outputs": [
    {
     "name": "stdout",
     "output_type": "stream",
     "text": [
      "---  There is this folder!  ---\n"
     ]
    }
   ],
   "source": [
    "file6 = \"./trainDataset/\"\n",
    "mkdir(file6) \n",
    "\n",
    "i = 0\n",
    "for root, dirs, files in os.walk(file5, topdown=False):   \n",
    "    files = os.listdir(file5)\n",
    "    files.sort(key=lambda x:int(x[:-4]))\n",
    "    for name in files:\n",
    "        img=cv2.imread((\"\"+os.path.join(root, name)),cv2.IMREAD_GRAYSCALE)\n",
    "        dst=cv2.resize(img,(640,480)) #改变图片尺寸\n",
    "        i = i + 1\n",
    "        cv2.imwrite(file6+ str(i) + '.bmp',dst)"
   ]
  },
  {
   "cell_type": "code",
   "execution_count": null,
   "metadata": {},
   "outputs": [],
   "source": []
  }
 ],
 "metadata": {
  "kernelspec": {
   "display_name": "Python 3.7.4 64-bit ('base': conda)",
   "language": "python",
   "name": "python37464bitbasecondacb3ec4d305c44fe887804b43a376a3a9"
  },
  "language_info": {
   "codemirror_mode": {
    "name": "ipython",
    "version": 3
   },
   "file_extension": ".py",
   "mimetype": "text/x-python",
   "name": "python",
   "nbconvert_exporter": "python",
   "pygments_lexer": "ipython3",
   "version": "3.7.4"
  }
 },
 "nbformat": 4,
 "nbformat_minor": 2
}
